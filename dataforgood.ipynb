{
 "cells": [
  {
   "cell_type": "code",
   "execution_count": 7,
   "id": "c17e939f",
   "metadata": {},
   "outputs": [],
   "source": [
    "import pandas as pd"
   ]
  },
  {
   "cell_type": "code",
   "execution_count": 3,
   "id": "7968cc89",
   "metadata": {},
   "outputs": [],
   "source": [
    "df=pd.read_csv(r'C:\\mental_health_diagnosis_treatment_.csv',encoding= 'unicode_escape')"
   ]
  },
  {
   "cell_type": "code",
   "execution_count": 4,
   "id": "f5f58b3f",
   "metadata": {},
   "outputs": [
    {
     "name": "stdout",
     "output_type": "stream",
     "text": [
      "     Patient ID  Age  Gender                  Diagnosis  \\\n",
      "0             1   43  Female  Major Depressive Disorder   \n",
      "1             2   40  Female  Major Depressive Disorder   \n",
      "2             3   55  Female  Major Depressive Disorder   \n",
      "3             4   34  Female  Major Depressive Disorder   \n",
      "4             5   52    Male             Panic Disorder   \n",
      "..          ...  ...     ...                        ...   \n",
      "495         496   24    Male        Generalized Anxiety   \n",
      "496         497   22    Male             Panic Disorder   \n",
      "497         498   23    Male  Major Depressive Disorder   \n",
      "498         499   48    Male           Bipolar Disorder   \n",
      "499         500   58    Male           Bipolar Disorder   \n",
      "\n",
      "     Symptom Severity (1-10)  Mood Score (1-10)  Sleep Quality (1-10)  \\\n",
      "0                         10                  5                     8   \n",
      "1                          9                  5                     4   \n",
      "2                          6                  3                     4   \n",
      "3                          6                  3                     6   \n",
      "4                          7                  6                     6   \n",
      "..                       ...                ...                   ...   \n",
      "495                       10                  4                     8   \n",
      "496                        5                  6                     6   \n",
      "497                        7                  3                     4   \n",
      "498                        9                  4                     6   \n",
      "499                        5                  7                     6   \n",
      "\n",
      "     Physical Activity (hrs/week)        Medication  \\\n",
      "0                               5  Mood Stabilizers   \n",
      "1                               7    Antipsychotics   \n",
      "2                               3             SSRIs   \n",
      "3                               5             SSRIs   \n",
      "4                               8       Anxiolytics   \n",
      "..                            ...               ...   \n",
      "495                             6  Mood Stabilizers   \n",
      "496                             7   Benzodiazepines   \n",
      "497                             2   Antidepressants   \n",
      "498                             9   Antidepressants   \n",
      "499                             2             SSRIs   \n",
      "\n",
      "                       Therapy Type Treatment Start Date  \\\n",
      "0             Interpersonal Therapy           2024-01-25   \n",
      "1             Interpersonal Therapy           2024-02-27   \n",
      "2         Mindfulness-Based Therapy           2024-03-20   \n",
      "3         Mindfulness-Based Therapy           2024-03-29   \n",
      "4             Interpersonal Therapy           2024-03-18   \n",
      "..                              ...                  ...   \n",
      "495  Dialectical Behavioral Therapy           2024-04-09   \n",
      "496       Mindfulness-Based Therapy           2024-02-05   \n",
      "497    Cognitive Behavioral Therapy           2024-03-24   \n",
      "498       Mindfulness-Based Therapy           2024-03-22   \n",
      "499    Cognitive Behavioral Therapy           2024-03-24   \n",
      "\n",
      "     Treatment Duration (weeks)  Stress Level (1-10)       Outcome  \\\n",
      "0                            11                    9  Deteriorated   \n",
      "1                            11                    7     No Change   \n",
      "2                            14                    7  Deteriorated   \n",
      "3                             8                    8  Deteriorated   \n",
      "4                            12                    5  Deteriorated   \n",
      "..                          ...                  ...           ...   \n",
      "495                           8                    9      Improved   \n",
      "496                          13                    6  Deteriorated   \n",
      "497                          10                    5  Deteriorated   \n",
      "498                          10                    6      Improved   \n",
      "499                          10                    6  Deteriorated   \n",
      "\n",
      "     Treatment Progress (1-10) AI-Detected Emotional State  \\\n",
      "0                            7                     Anxious   \n",
      "1                            7                     Neutral   \n",
      "2                            5                       Happy   \n",
      "3                           10                     Excited   \n",
      "4                            6                     Excited   \n",
      "..                         ...                         ...   \n",
      "495                         10                   Depressed   \n",
      "496                          8                       Happy   \n",
      "497                          5                     Neutral   \n",
      "498                          7                     Anxious   \n",
      "499                          5                       Happy   \n",
      "\n",
      "     Adherence to Treatment (%)  \n",
      "0                            66  \n",
      "1                            78  \n",
      "2                            62  \n",
      "3                            72  \n",
      "4                            63  \n",
      "..                          ...  \n",
      "495                          73  \n",
      "496                          86  \n",
      "497                          87  \n",
      "498                          73  \n",
      "499                          70  \n",
      "\n",
      "[500 rows x 17 columns]\n"
     ]
    }
   ],
   "source": [
    "print (df)"
   ]
  },
  {
   "cell_type": "code",
   "execution_count": 11,
   "id": "4169c4d3",
   "metadata": {},
   "outputs": [],
   "source": [
    "import matplotlib.pyplot as plt\n",
    "import seaborn as sns\n",
    "import pandas as pd\n"
   ]
  },
  {
   "cell_type": "code",
   "execution_count": 18,
   "id": "1977cfc1",
   "metadata": {},
   "outputs": [
    {
     "data": {
      "image/png": "[encoded data removed]",
      "text/plain": [
       "<Figure size 640x480 with 1 Axes>"
      ]
     },
     "metadata": {},
     "output_type": "display_data"
    }
   ],
   "source": [
    "# Load your data\n",
    "data=pd.read_csv(r'C:\\mental_health_diagnosis_treatment_.csv',encoding= 'unicode_escape')\n",
    "\n",
    "# Create a bar chart for diagnosis distribution\n",
    "plt.bar(data['Diagnosis'].value_counts().index, data['Diagnosis'].value_counts())\n",
    "plt.xlabel('Diagnosis')\n",
    "plt.ylabel('Count')\n",
    "plt.title('Diagnosis Distribution')\n",
    "plt.show()\n"
   ]
  },
  {
   "cell_type": "code",
   "execution_count": null,
   "id": "0dd79f83",
   "metadata": {},
   "outputs": [],
   "source": []
  }
 ],
 "metadata": {
  "kernelspec": {
   "display_name": "Python 3 (ipykernel)",
   "language": "python",
   "name": "python3"
  },
  "language_info": {
   "codemirror_mode": {
    "name": "ipython",
    "version": 3
   },
   "file_extension": ".py",
   "mimetype": "text/x-python",
   "name": "python",
   "nbconvert_exporter": "python",
   "pygments_lexer": "ipython3",
   "version": "3.11.5"
  }
 },
 "nbformat": 4,
 "nbformat_minor": 5
}
